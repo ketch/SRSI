{
 "cells": [
  {
   "cell_type": "code",
   "execution_count": null,
   "metadata": {
    "collapsed": true
   },
   "outputs": [],
   "source": [
    "%matplotlib inline\n",
    "import matplotlib.pyplot as plt\n",
    "import numpy as np\n",
    "import matplotlib\n",
    "matplotlib.rcParams.update({'font.size': 16, 'axes.linewidth' : 2, 'lines.linewidth' : 3, 'axes.labelsize' : 25, 'lines.markersize': 12.0})\n",
    "from ipywidgets import interact, widgets"
   ]
  },
  {
   "cell_type": "markdown",
   "metadata": {},
   "source": [
    "# Functions, slope, and derivative"
   ]
  },
  {
   "cell_type": "code",
   "execution_count": null,
   "metadata": {
    "collapsed": false
   },
   "outputs": [],
   "source": [
    "def plot_secant(h=0.6):\n",
    "    x = np.linspace(0.,1.)\n",
    "    f = lambda x : x**2\n",
    "    plt.plot(x,f(x));\n",
    "    x0 = 0.2\n",
    "    plt.plot(x0,f(x0),'ro')\n",
    "    plt.plot(x0+h,f(x0+h),'ro')\n",
    "    sec = lambda x : f(x0) + (x-x0)*(f(x0+h)-f(x0))/h\n",
    "    plt.plot(x,sec(x),'--k');\n",
    "    plt.xlim(0.,1.); plt.ylim((-0.2,1.));\n",
    "    plt.xlabel('$t$'); plt.title('$u(t)=t^2$')\n",
    "    plt.plot(x,0.04+0.4*(x-x0),'--g')\n",
    "#    title = str((f(x0+h)-f(x0))/h)\n",
    "#    plt.title(title);"
   ]
  },
  {
   "cell_type": "code",
   "execution_count": null,
   "metadata": {
    "collapsed": false
   },
   "outputs": [],
   "source": [
    "interact(plot_secant);"
   ]
  },
  {
   "cell_type": "markdown",
   "metadata": {},
   "source": [
    "$$ u'(t) = \\lim_{h\\to 0} \\frac{u(t+h) - u(t)}{h} $$"
   ]
  },
  {
   "cell_type": "code",
   "execution_count": null,
   "metadata": {
    "collapsed": true
   },
   "outputs": [],
   "source": []
  },
  {
   "cell_type": "code",
   "execution_count": null,
   "metadata": {
    "collapsed": true
   },
   "outputs": [],
   "source": []
  },
  {
   "cell_type": "code",
   "execution_count": null,
   "metadata": {
    "collapsed": true
   },
   "outputs": [],
   "source": []
  },
  {
   "cell_type": "code",
   "execution_count": null,
   "metadata": {
    "collapsed": true
   },
   "outputs": [],
   "source": []
  },
  {
   "cell_type": "code",
   "execution_count": null,
   "metadata": {
    "collapsed": true
   },
   "outputs": [],
   "source": []
  },
  {
   "cell_type": "code",
   "execution_count": null,
   "metadata": {
    "collapsed": true
   },
   "outputs": [],
   "source": []
  },
  {
   "cell_type": "code",
   "execution_count": null,
   "metadata": {
    "collapsed": true
   },
   "outputs": [],
   "source": []
  },
  {
   "cell_type": "markdown",
   "metadata": {},
   "source": [
    "# A model for the population of foxes and rabbits"
   ]
  },
  {
   "cell_type": "markdown",
   "metadata": {},
   "source": [
    "(Change in population) = (birth rate) - (death rate)\n",
    "\n",
    "Rabbits: $$\\frac{dR}{dt} = aR - b FR$$\n",
    "\n",
    "Foxes: $$\\frac{dF}{dt} = cRF - dF $$\n",
    "\n",
    " - a: Rabbit birth rate\n",
    " - b: rate at which foxes eat rabbits\n",
    " - c: fox population growth due to availability of food (rabbits)\n",
    " - d: fox natural death rate"
   ]
  },
  {
   "cell_type": "code",
   "execution_count": null,
   "metadata": {
    "collapsed": false
   },
   "outputs": [],
   "source": [
    "def predator_prey(a=0.015,b=0.0005,c=0.0003,d=0.01):\n",
    "    # Initial populations\n",
    "    rabbits = [10]\n",
    "    foxes = [20]\n",
    "\n",
    "    a = a/1000.\n",
    "    b = b/10000.\n",
    "    c = c/10000.\n",
    "    d = d/1000.\n",
    "    \n",
    "    dt = 0.1\n",
    "\n",
    "    N = 20000\n",
    "    for i in range(N):\n",
    "        R = rabbits[-1]\n",
    "        F = foxes[-1]\n",
    "        change_rabbits = dt * (a*R - b*R*F)\n",
    "        change_foxes = dt * (c*R*F - d*F)\n",
    "        rabbits.append(rabbits[-1] + change_rabbits)\n",
    "        foxes.append(foxes[-1] + change_foxes)\n",
    "\n",
    "    plt.figure(figsize=(12,6))\n",
    "    plt.plot(np.arange(N+1),rabbits)\n",
    "    plt.hold(True)\n",
    "    plt.plot(np.arange(N+1),foxes)\n",
    "    plt.ylim(0,200); plt.xlabel('Time'); plt.ylabel('Population')\n",
    "    plt.legend(('Rabbits','Foxes'),loc='best');"
   ]
  },
  {
   "cell_type": "code",
   "execution_count": null,
   "metadata": {
    "collapsed": false,
    "scrolled": true
   },
   "outputs": [],
   "source": [
    "interact(predator_prey,a=widgets.FloatSlider(min=5,max=30,step=1,value=15),\n",
    "                       b=widgets.FloatSlider(min=1,max=10,step=1,value=5),\n",
    "                       c=widgets.FloatSlider(min=1,max=10,step=1,value=3),\n",
    "                       d=widgets.FloatSlider(min=1,max=30,step=1,value=10));"
   ]
  },
  {
   "cell_type": "code",
   "execution_count": null,
   "metadata": {
    "collapsed": true
   },
   "outputs": [],
   "source": []
  }
 ],
 "metadata": {
  "kernelspec": {
   "display_name": "Python 2",
   "language": "python",
   "name": "python2"
  },
  "language_info": {
   "codemirror_mode": {
    "name": "ipython",
    "version": 2
   },
   "file_extension": ".py",
   "mimetype": "text/x-python",
   "name": "python",
   "nbconvert_exporter": "python",
   "pygments_lexer": "ipython2",
   "version": "2.7.9"
  },
  "widgets": {
   "state": {
    "6af5aab95e26454ebc256c3301e471d7": {
     "views": [
      {
       "cell_index": 15
      }
     ]
    },
    "9da9bca64f78480c9f7e62d0d94a42e0": {
     "views": [
      {
       "cell_index": 3
      }
     ]
    }
   },
   "version": "1.2.0"
  }
 },
 "nbformat": 4,
 "nbformat_minor": 0
}
