{
 "cells": [
  {
   "cell_type": "code",
   "execution_count": null,
   "metadata": {},
   "outputs": [],
   "source": [
    "%matplotlib inline\n",
    "\n",
    "import matplotlib\n",
    "matplotlib.rcParams.update({'font.size': 25})\n",
    "import numpy as np\n",
    "import matplotlib.pyplot as plt\n",
    "from ipywidgets import interact, widgets, fixed\n",
    "\n",
    "size = (12,6)\n",
    "\n",
    "def logistic(r=1.0, N = 100, x0=0.2):\n",
    "    x = np.zeros(N)\n",
    "    x[0] = x0\n",
    "    for n in range(N-1):\n",
    "        x[n+1] = r * x[n] * (1. - x[n])\n",
    "    plt.figure(figsize=size)\n",
    "    ax1 = plt.subplot2grid((1,8), (0,0), colspan=7)\n",
    "    ax2 = plt.subplot2grid((1,8), (0,7), colspan=1)\n",
    "    \n",
    "    ax1.plot(x, '-ok', linewidth=2)\n",
    "    ax1.set_ylim(0,1)\n",
    "    n = int(round(N/5))\n",
    "    ax2.plot([0]*n,x[-n:],'or',markersize=10,alpha=0.1)\n",
    "    ax2.set_ylim(0,1)\n",
    "    ax2.axis('off')\n",
    "    ax1.set_xlabel('r'); ax1.set_ylabel('$x_n$')\n",
    "\n",
    "interact(logistic,r=(0,4,0.01),x0=(0.01,1,0.1));"
   ]
  }
 ],
 "metadata": {
  "kernelspec": {
   "display_name": "Python 3",
   "language": "python",
   "name": "python3"
  },
  "language_info": {
   "codemirror_mode": {
    "name": "ipython",
    "version": 3
   },
   "file_extension": ".py",
   "mimetype": "text/x-python",
   "name": "python",
   "nbconvert_exporter": "python",
   "pygments_lexer": "ipython3",
   "version": "3.6.5"
  },
  "toc": {
   "base_numbering": 1,
   "nav_menu": {},
   "number_sections": true,
   "sideBar": true,
   "skip_h1_title": false,
   "title_cell": "Table of Contents",
   "title_sidebar": "Contents",
   "toc_cell": false,
   "toc_position": {},
   "toc_section_display": true,
   "toc_window_display": false
  }
 },
 "nbformat": 4,
 "nbformat_minor": 2
}
