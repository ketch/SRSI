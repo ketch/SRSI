{
 "cells": [
  {
   "cell_type": "markdown",
   "metadata": {},
   "source": [
    "$\\DeclareMathOperator{\\li}{li}$"
   ]
  },
  {
   "cell_type": "markdown",
   "metadata": {},
   "source": [
    "# Fibonacci numbers"
   ]
  },
  {
   "cell_type": "markdown",
   "metadata": {},
   "source": [
    "The Fibonacci sequence is defined by the iterative formula\n",
    "\n",
    "$$x_{n+2} = x_n + x_{n+1}.$$\n",
    "\n",
    "Here's a simple function to compute these numbers."
   ]
  },
  {
   "cell_type": "code",
   "execution_count": null,
   "metadata": {},
   "outputs": [],
   "source": [
    "def fibonacci(n):\n",
    "    x = [1, 1]\n",
    "    while len(x) < n + 1:\n",
    "        x.append(x[-2] + x[-1])\n",
    "    return x[-1]"
   ]
  },
  {
   "cell_type": "code",
   "execution_count": null,
   "metadata": {},
   "outputs": [],
   "source": [
    "fibonacci(4)"
   ]
  },
  {
   "cell_type": "code",
   "execution_count": null,
   "metadata": {},
   "outputs": [],
   "source": [
    "fibonacci(10)"
   ]
  },
  {
   "cell_type": "code",
   "execution_count": null,
   "metadata": {},
   "outputs": [],
   "source": [
    "fibonacci(70)"
   ]
  },
  {
   "cell_type": "code",
   "execution_count": null,
   "metadata": {},
   "outputs": [],
   "source": [
    "def fibonacci_sequence(n):\n",
    "    x = [1, 1]\n",
    "    while len(x) < n+1:\n",
    "        x.append(x[-2] + x[-1])\n",
    "    return x"
   ]
  },
  {
   "cell_type": "code",
   "execution_count": null,
   "metadata": {},
   "outputs": [],
   "source": [
    "%matplotlib inline\n",
    "import matplotlib\n",
    "matplotlib.rcParams.update({'font.size': 16, 'axes.linewidth' : 2, 'lines.linewidth' : 3, 'axes.labelsize' : 25})\n",
    "import matplotlib.pyplot as plt\n",
    "import numpy as np"
   ]
  },
  {
   "cell_type": "code",
   "execution_count": null,
   "metadata": {},
   "outputs": [],
   "source": [
    "def plot_fibonacci(n):\n",
    "    plt.plot(fibonacci_sequence(n),'o');\n",
    "    plt.xlabel('$n$')\n",
    "    plt.ylabel('$x_n$');\n",
    "    \n",
    "plot_fibonacci(10)"
   ]
  },
  {
   "cell_type": "code",
   "execution_count": null,
   "metadata": {},
   "outputs": [],
   "source": [
    "plot_fibonacci(100)"
   ]
  },
  {
   "cell_type": "code",
   "execution_count": null,
   "metadata": {},
   "outputs": [],
   "source": [
    "plt.semilogy(fibonacci_sequence(100),'o');"
   ]
  },
  {
   "cell_type": "markdown",
   "metadata": {},
   "source": [
    "  \n",
    "  \n",
    "  \n",
    "  \n",
    "  \n",
    "  \n",
    "  \n",
    "  "
   ]
  },
  {
   "cell_type": "code",
   "execution_count": null,
   "metadata": {},
   "outputs": [],
   "source": []
  },
  {
   "cell_type": "code",
   "execution_count": null,
   "metadata": {},
   "outputs": [],
   "source": []
  },
  {
   "cell_type": "code",
   "execution_count": null,
   "metadata": {},
   "outputs": [],
   "source": [
    "from sympy import sqrt, simplify\n",
    "zeta_plus = 1/2 + sqrt(5)/2\n",
    "zeta_minus = 1/2 - sqrt(5)/2\n",
    "alpha_plus = (1-zeta_minus)/(zeta_plus-zeta_minus)\n",
    "alpha_minus = 1-alpha_plus"
   ]
  },
  {
   "cell_type": "code",
   "execution_count": null,
   "metadata": {},
   "outputs": [],
   "source": [
    "def fib(n):\n",
    "    return alpha_plus*zeta_plus**n + alpha_minus*zeta_minus**n"
   ]
  },
  {
   "cell_type": "code",
   "execution_count": null,
   "metadata": {},
   "outputs": [],
   "source": [
    "print(fibonacci(10))\n",
    "print(fib(10).evalf())"
   ]
  },
  {
   "cell_type": "code",
   "execution_count": null,
   "metadata": {},
   "outputs": [],
   "source": [
    "print(fibonacci(70))"
   ]
  },
  {
   "cell_type": "code",
   "execution_count": null,
   "metadata": {},
   "outputs": [],
   "source": [
    "print(fib(70).evalf())"
   ]
  },
  {
   "cell_type": "code",
   "execution_count": null,
   "metadata": {},
   "outputs": [],
   "source": []
  },
  {
   "cell_type": "code",
   "execution_count": null,
   "metadata": {},
   "outputs": [],
   "source": [
    "np.exp(2)"
   ]
  },
  {
   "cell_type": "code",
   "execution_count": null,
   "metadata": {},
   "outputs": [],
   "source": []
  },
  {
   "cell_type": "code",
   "execution_count": null,
   "metadata": {},
   "outputs": [],
   "source": []
  },
  {
   "cell_type": "code",
   "execution_count": null,
   "metadata": {},
   "outputs": [],
   "source": []
  },
  {
   "cell_type": "code",
   "execution_count": null,
   "metadata": {},
   "outputs": [],
   "source": []
  },
  {
   "cell_type": "code",
   "execution_count": null,
   "metadata": {},
   "outputs": [],
   "source": []
  },
  {
   "cell_type": "code",
   "execution_count": null,
   "metadata": {},
   "outputs": [],
   "source": []
  },
  {
   "cell_type": "code",
   "execution_count": null,
   "metadata": {},
   "outputs": [],
   "source": []
  },
  {
   "cell_type": "code",
   "execution_count": null,
   "metadata": {},
   "outputs": [],
   "source": []
  },
  {
   "cell_type": "markdown",
   "metadata": {},
   "source": [
    "# Prime numbers"
   ]
  },
  {
   "cell_type": "markdown",
   "metadata": {},
   "source": [
    "Prime numbers are the integers that divide evenly only by themselves and one.  Every number has a uniqe factorization as a product of primes."
   ]
  },
  {
   "cell_type": "code",
   "execution_count": null,
   "metadata": {},
   "outputs": [],
   "source": [
    "def sieve(numbers, prime):\n",
    "    sieved_numbers = []\n",
    "    for number in numbers:\n",
    "        if (number == prime) or (number % prime != 0):\n",
    "            sieved_numbers.append(number)\n",
    "    return sieved_numbers"
   ]
  },
  {
   "cell_type": "code",
   "execution_count": null,
   "metadata": {},
   "outputs": [],
   "source": [
    "x = range(2,11)\n",
    "print('Primes less than 11:', sieve(x,2))"
   ]
  },
  {
   "cell_type": "code",
   "execution_count": null,
   "metadata": {},
   "outputs": [],
   "source": [
    "from math import sqrt\n",
    "def primes_less_than(n):\n",
    "    integers = range(1,n+1)\n",
    "    primes = integers[1:]\n",
    "    i = 2\n",
    "    while i <= sqrt(n):\n",
    "        primes = sieve(primes,i)\n",
    "        i += 1\n",
    "    return np.array(primes)"
   ]
  },
  {
   "cell_type": "code",
   "execution_count": null,
   "metadata": {},
   "outputs": [],
   "source": [
    "print(primes_less_than(9))"
   ]
  },
  {
   "cell_type": "code",
   "execution_count": null,
   "metadata": {},
   "outputs": [],
   "source": [
    "print(primes_less_than(100))"
   ]
  },
  {
   "cell_type": "markdown",
   "metadata": {},
   "source": [
    "## How many primes are there?"
   ]
  },
  {
   "cell_type": "markdown",
   "metadata": {},
   "source": [
    "### How are they distributed?\n",
    "Can we find a formula for $p_n$?"
   ]
  },
  {
   "cell_type": "code",
   "execution_count": null,
   "metadata": {},
   "outputs": [],
   "source": [
    "n = 100\n",
    "primes = primes_less_than(n)\n",
    "np.count_nonzero(primes<10)"
   ]
  },
  {
   "cell_type": "code",
   "execution_count": null,
   "metadata": {
    "scrolled": true
   },
   "outputs": [],
   "source": [
    "primes_up_to_n = [np.count_nonzero(primes<=i) for i in range(1,n+1)]\n",
    "\n",
    "plt.plot(range(1,n+1),primes_up_to_n,lw=2);\n",
    "plt.xlabel('$n$'); plt.ylabel('$\\pi(n)$');"
   ]
  },
  {
   "cell_type": "markdown",
   "metadata": {},
   "source": [
    "(introduce $\\pi(n)$)"
   ]
  },
  {
   "cell_type": "code",
   "execution_count": null,
   "metadata": {},
   "outputs": [],
   "source": [
    "def pi(n):\n",
    "    \"\"\"Note that this actually returns a vector of values pi(x) for all x <= n.\"\"\"\n",
    "    primes = primes_less_than(n)\n",
    "    return [np.count_nonzero(primes<=i) for i in range(1,n+1)]"
   ]
  },
  {
   "cell_type": "code",
   "execution_count": null,
   "metadata": {},
   "outputs": [],
   "source": [
    "def plot_pi(n):\n",
    "    pi_values = pi(n)\n",
    "    plt.plot(range(1,n+1),pi_values,lw=3)\n",
    "    plt.xlabel('$n$')\n",
    "    plt.ylabel('$\\pi(n)$')"
   ]
  },
  {
   "cell_type": "code",
   "execution_count": null,
   "metadata": {},
   "outputs": [],
   "source": [
    "plot_pi(30)"
   ]
  },
  {
   "cell_type": "code",
   "execution_count": null,
   "metadata": {},
   "outputs": [],
   "source": [
    "plot_pi(100)"
   ]
  },
  {
   "cell_type": "code",
   "execution_count": null,
   "metadata": {},
   "outputs": [],
   "source": [
    "plot_pi(1000)"
   ]
  },
  {
   "cell_type": "code",
   "execution_count": null,
   "metadata": {},
   "outputs": [],
   "source": [
    "plot_pi(10000)"
   ]
  },
  {
   "cell_type": "code",
   "execution_count": null,
   "metadata": {},
   "outputs": [],
   "source": [
    "plot_pi(100000)"
   ]
  },
  {
   "cell_type": "markdown",
   "metadata": {},
   "source": [
    "How likely is a random number to be prime?\n",
    "\n",
    "Clearly it depends on approximately how large the number is.  Let's look at the fraction of all numbers up to $n$ that are prime."
   ]
  },
  {
   "cell_type": "code",
   "execution_count": null,
   "metadata": {},
   "outputs": [],
   "source": [
    "def plot_proportion_of_primes(n):\n",
    "    proportion = pi(n)/np.arange(1.,n+1)  # Note the decimal point!\n",
    "    plt.plot(range(1,n+1),proportion,lw=3)\n",
    "    plt.ylabel('Prime fraction')\n",
    "    plt.xlabel('$n$')"
   ]
  },
  {
   "cell_type": "code",
   "execution_count": null,
   "metadata": {},
   "outputs": [],
   "source": [
    "plot_proportion_of_primes(100)"
   ]
  },
  {
   "cell_type": "code",
   "execution_count": null,
   "metadata": {},
   "outputs": [],
   "source": [
    "plot_proportion_of_primes(1000)"
   ]
  },
  {
   "cell_type": "code",
   "execution_count": null,
   "metadata": {},
   "outputs": [],
   "source": [
    "plot_proportion_of_primes(10000)"
   ]
  },
  {
   "cell_type": "markdown",
   "metadata": {},
   "source": [
    "Gauss noticed that the \"probability\" of a number being prime seems related to the number of digits it has:"
   ]
  },
  {
   "cell_type": "code",
   "execution_count": null,
   "metadata": {},
   "outputs": [],
   "source": [
    "def proportion_in_interval(lower,upper):\n",
    "    primes = primes_less_than(upper)\n",
    "    primes = primes[np.where(primes>=lower)]\n",
    "    return len(primes)/float(upper-lower)"
   ]
  },
  {
   "cell_type": "code",
   "execution_count": null,
   "metadata": {},
   "outputs": [],
   "source": [
    "print( \"1 digit:  \", proportion_in_interval(1,10))\n",
    "print( \"2 digits: \", proportion_in_interval(10,100))\n",
    "print( \"3 digits: \", proportion_in_interval(100,1000))\n",
    "print( \"4 digits: \", proportion_in_interval(1000,10000))"
   ]
  },
  {
   "cell_type": "code",
   "execution_count": null,
   "metadata": {},
   "outputs": [],
   "source": [
    "for i in range(1,5):\n",
    "    print(1./(2.*i))"
   ]
  },
  {
   "cell_type": "markdown",
   "metadata": {},
   "source": [
    "Based on this, we might conjecture that\n",
    "\n",
    "$$\\pi(n) \\approx \\int_2^n \\frac{1}{\\log(x)} dx$$\n",
    "\n",
    "where $\\approx$ means \"approximately equals\".  The integral here is a special function known (appropriately) as the *logarithmic integral* and denoted $\\li(n)$.  Python's sympy library has a built-in function to evaluate it."
   ]
  },
  {
   "cell_type": "code",
   "execution_count": null,
   "metadata": {},
   "outputs": [],
   "source": [
    "from sympy import li\n",
    "print(li(5).evalf())"
   ]
  },
  {
   "cell_type": "code",
   "execution_count": null,
   "metadata": {},
   "outputs": [],
   "source": [
    "n = 1000\n",
    "plot_pi(n)\n",
    "x = np.arange(1,n)\n",
    "\n",
    "plt.plot(x,[li(X).evalf() for X in x],'-k')\n",
    "plt.plot(x,x/np.log(x))\n",
    "plt.xlabel('$n$');\n",
    "plt.legend(('$\\pi(n)$','$li(n)$','$n/\\log(n)$'),loc='best',fontsize=20);"
   ]
  },
  {
   "cell_type": "markdown",
   "metadata": {},
   "source": [
    "### The Prime Number Theorem\n",
    "\n",
    "Our conjecture above turns out to be correct in the asymptotic sense:\n",
    "\n",
    "$$\\lim_{n\\to \\infty} \\frac{\\pi(n)}{\\li(n)} = 1$$\n",
    "\n",
    "and\n",
    "\n",
    "$$\\lim_{n\\to \\infty} \\frac{\\pi(n)}{n/\\log(n)} = 1.$$\n",
    "\n",
    "In other words: $p_n \\approx n\\log(n)$.  The relative error in this approximation goes to zero as $n \\to \\infty$."
   ]
  },
  {
   "cell_type": "code",
   "execution_count": null,
   "metadata": {},
   "outputs": [],
   "source": [
    "n = 100000\n",
    "ints = np.arange(1.,n+1)\n",
    "plt.plot(ints,pi(n)/(ints/np.log(ints)))\n",
    "plt.ylim(1.,1.2);"
   ]
  },
  {
   "cell_type": "markdown",
   "metadata": {},
   "source": [
    "The sequence seems to converge very slowly!"
   ]
  },
  {
   "cell_type": "markdown",
   "metadata": {},
   "source": [
    "## A formula for $p_n$?"
   ]
  },
  {
   "cell_type": "markdown",
   "metadata": {},
   "source": [
    "The Prime Number Theorem implies that \n",
    "\n",
    "$$p_n \\approx n \\log n$$\n",
    "\n",
    "(why?)"
   ]
  },
  {
   "cell_type": "code",
   "execution_count": null,
   "metadata": {},
   "outputs": [],
   "source": [
    "n = 10000\n",
    "primes = compute_primes(n)\n",
    "plt.plot(primes)\n",
    "y = len(primes)\n",
    "z = np.arange(y)\n",
    "plt.plot(z*np.log(z));\n",
    "plt.xlabel('$n$')\n",
    "plt.ylabel('$p_n$');\n",
    "plt.legend(('$p_n$','$n\\log(n)$'),loc='best');"
   ]
  },
  {
   "cell_type": "markdown",
   "metadata": {},
   "source": [
    "The formula seems to get less and less accurate a $n$ increases.  But what about the relative error?  We can investigate it by using a semi-log plot above."
   ]
  },
  {
   "cell_type": "markdown",
   "metadata": {},
   "source": [
    "And here's a plot of the relative error itself."
   ]
  },
  {
   "cell_type": "code",
   "execution_count": null,
   "metadata": {},
   "outputs": [],
   "source": [
    "plt.plot((primes-z*np.log(z))/primes)\n",
    "plt.title(\"Relative error\");"
   ]
  },
  {
   "cell_type": "markdown",
   "metadata": {},
   "source": [
    "## The Riemann hypothesis"
   ]
  },
  {
   "cell_type": "markdown",
   "metadata": {},
   "source": [
    "Let's go back to comparing $\\pi(n)$ with $\\li(n)$ and investigate the error in that approximation:\n",
    "$$|\\li(n) - \\pi(n)|$$"
   ]
  },
  {
   "cell_type": "code",
   "execution_count": null,
   "metadata": {},
   "outputs": [],
   "source": [
    "n = 10000\n",
    "primes = compute_primes(n)\n",
    "primes_up_to_n = [np.count_nonzero(primes<=i) for i in range(1,n+1)]\n",
    "error = -(primes_up_to_n - np.array([li(x) for x in np.arange(1,n+1)]))\n",
    "plt.plot(error,lw=2)\n",
    "x = np.arange(1,n+1)\n",
    "#plt.plot(np.sqrt(x/np.log(x)),'g')\n",
    "#plt.plot(np.sqrt(2/np.pi)*np.sqrt(x/np.log(x)),'r');\n",
    "plt.xlabel('$n$')\n",
    "plt.ylabel('$li(n)-\\pi(n)$');"
   ]
  },
  {
   "cell_type": "markdown",
   "metadata": {},
   "source": [
    "(discuss Skewes number: http://mathworld.wolfram.com/SkewesNumber.html)"
   ]
  },
  {
   "cell_type": "markdown",
   "metadata": {},
   "source": [
    "The Riemann hypothesis (in one form) states the claim:\n",
    "\n",
    "$$|\\li(n) - \\pi(n)| \\le \\sqrt{n} \\log(n)$$\n",
    "\n",
    "for all $n>2$."
   ]
  },
  {
   "cell_type": "code",
   "execution_count": null,
   "metadata": {},
   "outputs": [],
   "source": [
    "plt.plot(error,lw=2)\n",
    "x = np.arange(1,n+1)\n",
    "plt.plot(np.sqrt(x*np.log(x)),'g')\n",
    "#plt.plot(np.sqrt(2/np.pi)*np.sqrt(x/np.log(x)),'r');\n",
    "plt.xlabel('$n$')\n",
    "plt.ylabel('$|li(n)-\\pi(n)|$');"
   ]
  },
  {
   "cell_type": "markdown",
   "metadata": {},
   "source": [
    "## Gaps between primes"
   ]
  },
  {
   "cell_type": "code",
   "execution_count": null,
   "metadata": {},
   "outputs": [],
   "source": [
    "n = 100\n",
    "primes = compute_primes(n)\n",
    "plt.plot(np.diff(primes));\n",
    "plt.ylabel('$p_{n+1}-p_n$')\n",
    "plt.xlabel('$n$');"
   ]
  },
  {
   "cell_type": "markdown",
   "metadata": {},
   "source": [
    "Gaps of size 2 become more rare, but there still always seem to be more of them, no matter how high we go!  The largest pair of twin primes currently known is\n",
    "\n",
    "$$3756801695685 \\times 2^{666669} \\pm 1.$$\n",
    "\n",
    "These numbers have more than 200000 digits!\n",
    "\n",
    "The **Twin Prime Conjecture** says that there are infinitely many pairs of twin primes.  Nobody has been able to prove it!  In fact, until recently, we couldn't even prove the following statement:\n",
    "\n",
    "> There exists some number $k$ such that there are infinitely many pairs of consecutive primes whose difference is equal to $k$.\n",
    "\n",
    "However, last year Yitang Zhang proved that such a $k$ does exist and that it is no bigger than about 7 million!  Since then, other mathematicians have made this number even smaller, but we still have no proof for $k=2$."
   ]
  }
 ],
 "metadata": {
  "kernelspec": {
   "display_name": "Python 3",
   "language": "python",
   "name": "python3"
  },
  "language_info": {
   "codemirror_mode": {
    "name": "ipython",
    "version": 3
   },
   "file_extension": ".py",
   "mimetype": "text/x-python",
   "name": "python",
   "nbconvert_exporter": "python",
   "pygments_lexer": "ipython3",
   "version": "3.6.5"
  },
  "toc": {
   "base_numbering": 1,
   "nav_menu": {},
   "number_sections": true,
   "sideBar": true,
   "skip_h1_title": false,
   "title_cell": "Table of Contents",
   "title_sidebar": "Contents",
   "toc_cell": false,
   "toc_position": {},
   "toc_section_display": true,
   "toc_window_display": false
  }
 },
 "nbformat": 4,
 "nbformat_minor": 1
}
