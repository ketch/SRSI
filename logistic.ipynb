{
 "cells": [
  {
   "cell_type": "markdown",
   "metadata": {},
   "source": [
    "<!-- dom:TITLE: The logistic map: chaos, fractals, and universality -->\n",
    "# The logistic map: chaos, fractals, and universality\n",
    "<!-- dom:AUTHOR: David I. Ketcheson -->\n",
    "<!-- Author: --> **David I. Ketcheson**\n",
    "\n",
    "Date: **May 27, 2015**\n",
    "\n",
    "**This notebook is released under the CC-BY 3.0 license.**\n",
    "\n",
    "I first learned about chaotic dynamics while reading James Gleick's book \n",
    "[Chaos - making a new science](http://en.wikipedia.org/wiki/Chaos:_Making_a_New_Science)\n",
    "when I was 15.  It left a deep impression on me, and heightened\n",
    "my growing love of mathematics.  The stories that most stand out in my mind,\n",
    "20 years later, are his account of Robert May's computational experiments with\n",
    "the logistic map and Feigenbaum's discovery of [the first of the constants named after him](http://en.wikipedia.org/wiki/Feigenbaum_constants).  The pictures in that chapter have stuck with me and still\n",
    "impress me with their complexity that flows from such a simple source.\n",
    "\n",
    "# The logistic map\n",
    "Consider the very simple equation:\n",
    "\n",
    "$$x_{n+1} = r x_n (1-x_n).$$\n",
    "\n",
    "Among other applications, this has been used as a simple model for population dynamics; roughly speaking, the factor $r x_n$ accounts for reproduction, while the factor $1-x_n$ accounts for overpopulation.\n",
    "If we pick some parameter $r$ and some initial value $x_0$, then this equation, known as the *logistic map*, generates an infinite sequence of values $x_1, x_2, \\dots$.  A natural question is, **what happens to the values $x_n$ as $n$ gets large?**\n",
    "\n",
    "What kinds of behavior are possible?  The following are some obvious possibilities:\n",
    "\n",
    "1. The values $x_n$ get closer and closer to some limit value $x_\\infty$ as $n\\to \\infty$.\n",
    "\n",
    "2. The values $x_n$ oscillate periodically among two or more values, repeating those values forever.\n",
    "\n",
    "3. The values $x_n$ get larger and larger without bound.\n",
    "\n",
    "We will avoid case #3 by taking $0<x_0<1$ and $0<r<4$ (*why does this ensure that the sequence remains bounded?*).  Now let's experiment."
   ]
  },
  {
   "cell_type": "code",
   "execution_count": null,
   "metadata": {},
   "outputs": [],
   "source": [
    "%matplotlib inline\n",
    "\n",
    "import matplotlib\n",
    "matplotlib.rcParams.update({'font.size': 25})\n",
    "import numpy as np\n",
    "import matplotlib.pyplot as plt\n",
    "from ipywidgets import interact, widgets, fixed\n",
    "\n",
    "size = (12,6)\n",
    "#import mpld3\n",
    "#mpld3.enable_notebook()  # This doesn't work with plots of so many points -- it's too slow"
   ]
  },
  {
   "cell_type": "markdown",
   "metadata": {},
   "source": [
    "Here's a bit of code to compute a sequence of values $x_0,\\dots,x_N$:"
   ]
  },
  {
   "cell_type": "code",
   "execution_count": null,
   "metadata": {},
   "outputs": [],
   "source": [
    "def logistic_map_sequence(r=1.0, N = 100, x0=0.6):\n",
    "    x = np.zeros(N)\n",
    "    x[0] = x0\n",
    "    for n in range(N-1):\n",
    "        x[n+1] = r * x[n] * (1. - x[n])\n",
    "    return x"
   ]
  },
  {
   "cell_type": "markdown",
   "metadata": {},
   "source": [
    "Let's print out a few values:"
   ]
  },
  {
   "cell_type": "code",
   "execution_count": null,
   "metadata": {},
   "outputs": [],
   "source": [
    "x = logistic_map_sequence()\n",
    "print(x[:10])"
   ]
  },
  {
   "cell_type": "markdown",
   "metadata": {},
   "source": [
    "It looks like they're getting smaller and smaller.  By plotting them, we can see the behavior better.\n",
    "\n",
    "## Plotting one sequence"
   ]
  },
  {
   "cell_type": "code",
   "execution_count": null,
   "metadata": {},
   "outputs": [],
   "source": [
    "def plot_logistic(i,x):\n",
    "    plt.figure(figsize=size)\n",
    "    plt.plot(x[:i],'-ok',linewidth=2)\n",
    "    plt.ylim(0,1); plt.xlim(0,len(x))\n",
    "    plt.xlabel('n'); plt.ylabel('$x_n$')"
   ]
  },
  {
   "cell_type": "code",
   "execution_count": null,
   "metadata": {
    "scrolled": true
   },
   "outputs": [],
   "source": [
    "x = logistic_map_sequence(r=1.0,N=30)\n",
    "plot_logistic(len(x),x)"
   ]
  },
  {
   "cell_type": "code",
   "execution_count": null,
   "metadata": {},
   "outputs": [],
   "source": [
    "interact(plot_logistic,i=widgets.IntSlider(min=0,max=len(x),step=1,value=0),x=fixed(x));"
   ]
  },
  {
   "cell_type": "markdown",
   "metadata": {},
   "source": [
    "It seems that for these values of $r$ and $x_0$, we are in situation #1, with the limit value $x_\\infty = 0$.  Can we be sure?  \n",
    "\n",
    "Yes.  For $r=1$, the logistic equation is just:\n",
    "\n",
    "$$x_{n+1} = x_n (1-x_n)$$\n",
    "\n",
    "If $x_0$ is between 0 and 1, then obviously it will stay in that interval\n",
    "forever.  And at each step we multiply $x_n$ by a number smaller than 1, so we\n",
    "get a smaller number for $x_{n+1}$.  Finally, notice that if $x_n=0$, then\n",
    "$x_{n+1}=0$.  Of course, if we start with a value $x_0$ greater than zero, then\n",
    "this will never happen, but each successive value of $x_n$ will be closer to\n",
    "zero than the last.\n",
    "\n",
    "## Playing with the parameter\n",
    "What happens if we take $r$ a bit larger?"
   ]
  },
  {
   "cell_type": "code",
   "execution_count": null,
   "metadata": {},
   "outputs": [],
   "source": [
    "x = logistic_map_sequence(r=1.5,N=30,x0=1./10)\n",
    "plot_logistic(len(x),x)"
   ]
  },
  {
   "cell_type": "markdown",
   "metadata": {},
   "source": [
    "Again, $x_n$ seems to approach some constant value, but now it isn't zero.  What value is it?  We have\n",
    "\n",
    "$$x_{n+1} = \\frac{3}{2} x_n (1-x_n)$$\n",
    "\n",
    "We can find the fixed point by supposing that $x_{n+1} = x_n$.  Then we have\n",
    "\n",
    "$$x_n = \\frac{3}{2} x_n (1-x_n)$$\n",
    "\n",
    "or\n",
    "\n",
    "$$x_n^2 - \\frac{1}{3} x_n = 0.$$\n",
    "\n",
    "This quadratic equation has two solutions:\n",
    "\n",
    "\n",
    "$$x_n = (0, 1/3).$$\n",
    "\n",
    "So the value we see above should be $1/3$.  Let's check:"
   ]
  },
  {
   "cell_type": "code",
   "execution_count": null,
   "metadata": {},
   "outputs": [],
   "source": [
    "x[-1]"
   ]
  },
  {
   "cell_type": "markdown",
   "metadata": {},
   "source": [
    "Can we get $x_n \\to 0$ by choosing a different $x_0$?  Try it by moving the slider below."
   ]
  },
  {
   "cell_type": "code",
   "execution_count": null,
   "metadata": {},
   "outputs": [],
   "source": [
    "def logistic(r=1.0, N = 100, x0=0.2):\n",
    "    x = np.zeros(N)\n",
    "    x[0] = x0\n",
    "    for n in range(N-1):\n",
    "        x[n+1] = r * x[n] * (1. - x[n])\n",
    "    plt.figure(figsize=size)\n",
    "    ax1 = plt.subplot2grid((1,8), (0,0), colspan=7)\n",
    "    ax2 = plt.subplot2grid((1,8), (0,7), colspan=1)\n",
    "    \n",
    "    ax1.plot(x, '-ok', linewidth=2)\n",
    "    ax1.set_ylim(0,1)\n",
    "    n = int(round(N/5))\n",
    "    ax2.plot([0]*n,x[-n:],'or',markersize=10,alpha=0.1)\n",
    "    ax2.set_ylim(0,1)\n",
    "    ax2.axis('off')\n",
    "    ax1.set_xlabel('r'); ax1.set_ylabel('x')\n",
    "    \n",
    "interact(logistic,r=fixed(1.5),N=fixed(30),x0=(0.00,1,0.04));"
   ]
  },
  {
   "cell_type": "markdown",
   "metadata": {},
   "source": [
    "No; any $x_0$ in $(0,1)$ will give a sequence approaching $1/3$.  We say that\n",
    "$0$ is an unstable equilibrium, while $1/3$ is a stable equilibrium.\n",
    "\n",
    "# Interactive exploration\n",
    "Play around with the sliders below, and see if you can answer the following:\n",
    "\n",
    "1. For what values of $r$ does $x_n \\to 0$?\n",
    "\n",
    "2. What happens for slightly bigger values of $r$?\n",
    "\n",
    "3. Can you find values of $r$ that generate periodic orbits (i.e., situation #2 from our list above)?\n",
    "\n",
    "4. How many different points are visited in the periodic case?\n",
    "\n",
    "5. What happens for even bigger values of $r$?\n",
    "\n",
    "6. Make sure to try the value $r=3.83$.  What do you observe?\n",
    "\n",
    "Do your conclusions depend on $N$ or $x_0$?"
   ]
  },
  {
   "cell_type": "code",
   "execution_count": null,
   "metadata": {},
   "outputs": [],
   "source": [
    "interact(logistic,r=(0,4,0.01),x0=(0.01,1,0.1));"
   ]
  },
  {
   "cell_type": "markdown",
   "metadata": {},
   "source": [
    "Here's another way of visualizing the sequences:"
   ]
  },
  {
   "cell_type": "code",
   "execution_count": null,
   "metadata": {},
   "outputs": [],
   "source": [
    "def plot_logistic_parabola(r=1.0,N=100,x0=0.6,j=1):\n",
    "    x = logistic_map_sequence(r,N,x0)\n",
    "    xx = np.linspace(0,1)\n",
    "    yy = r*xx*(1-xx)\n",
    "    plt.figure(figsize=size)\n",
    "    plt.plot(xx,yy,'k',linewidth=2)\n",
    "    plt.plot(xx,xx,'k',linewidth=2);\n",
    "    for i in range(j-1):\n",
    "        plt.plot([x[i],x[i],x[i+1]],[x[i],x[i+1],x[i+1]],'o-b',linewidth=2,alpha=0.4)\n",
    "    plt.xlabel('x'); plt.ylabel('x')\n",
    "        \n",
    "interact(plot_logistic_parabola,r=(0,4,0.1),x0=(0.01,1.,0.04),j=(1,100,2));"
   ]
  },
  {
   "cell_type": "markdown",
   "metadata": {},
   "source": [
    "# The bifurcation diagram: chaos and fractals\n",
    "There's a better way to see the whole range of behavior.  In the plots below, we'll use $r$ itself as the $x$-axis, and just show the last part of the sequence of values $x_n$ for each computation (i.e., the red dots from the plot above)."
   ]
  },
  {
   "cell_type": "code",
   "execution_count": null,
   "metadata": {},
   "outputs": [],
   "source": [
    "def bifurcation_diagram(r=(0.8,4),N=2000,k=2000,m=200,x0=0.2):\n",
    "    \"\"\"\n",
    "        r: Pair of numbers (rmin,rmax) indicating parameter range\n",
    "        k: Number of samples in r\n",
    "        N: Number of iterations per sequence\n",
    "        m: keep just the last m iterates\n",
    "    \"\"\"\n",
    "    x = np.zeros((k,N))\n",
    "    vals = np.zeros((k,m))\n",
    "    rs = np.linspace(r[0],r[1],k)\n",
    "    x[:,0] = x0\n",
    "    for n in range(N-1):\n",
    "        x[:,n+1] = rs * x[:,n] * (1. - x[:,n])\n",
    "    return rs, x[:,-m:]\n",
    "\n",
    "plotargs = {'markersize':0.15, 'alpha':0.4}\n",
    "rs, vals = bifurcation_diagram()\n",
    "plt.figure(figsize=size)   \n",
    "plt.plot(rs,vals,'ok',**plotargs);\n",
    "plt.xlim(rs.min(),rs.max());\n",
    "plt.xlabel('r'); plt.ylabel('x');"
   ]
  },
  {
   "cell_type": "markdown",
   "metadata": {},
   "source": [
    "This beautiful structure has some amazing properties.  It's easy to see the first few \"period doublings\": 1, 2, 4, 8, etc.  In fact, if you zoom in on that part there is an infinite sequence of doublings!  \n",
    "These doublings are called *bifurcations* and the picture above is referred to as a\n",
    "*bifurcation diagram*.\n",
    "\n",
    "But what happens next is even more incredible: **chaos**.  See the regions where almost everything seems to be filled in?  In fact, if we set $N$ and $m$ large enough, those regions *would* fill in completely.  Regardless of the value of $x_0$, the computed sequence will include values arbitrarily close to each real number in certain intervals.  These sequences never repeat.\n",
    "\n",
    "The last aspect of this figure is the most jolting: it is fractal.  That is, if you zoom in on any region of it, you find more periodic and chaotic sections.  Zooming in on those reveals additional fine structure, and so forth.  Here are some examples; each plot below is a zoom of the blue shaded rectangle in the preceding plot."
   ]
  },
  {
   "cell_type": "code",
   "execution_count": null,
   "metadata": {},
   "outputs": [],
   "source": [
    "from matplotlib.patches import Rectangle\n",
    "boxes=((0.8,4,0,1),\n",
    "       (3.4,3.6,0.3,0.6),\n",
    "       (3.57,3.58,0.33,0.40),\n",
    "       (3.5776,3.578,0.365,0.372),\n",
    "       (3.5778,3.57782,0.367,0.369))\n",
    "\n",
    "fig, ax = plt.subplots(len(boxes),1,figsize=(12,6*len(boxes)))\n",
    "\n",
    "\n",
    "for i, box in enumerate(boxes):\n",
    "    m = int(round(200*1./np.sqrt((box[3]-box[2]))))\n",
    "    N = 5*m\n",
    "    rs, vals = bifurcation_diagram((box[0],box[1]),m=m,N=N)\n",
    "    ax[i].plot(rs,vals,'ok',**plotargs)\n",
    "    if i<len(boxes)-1:\n",
    "        nextbox = boxes[i+1]\n",
    "        ax[i].add_patch(Rectangle((nextbox[0], nextbox[2]), nextbox[1]-nextbox[0], nextbox[3]-nextbox[2], \n",
    "                                         facecolor=\"blue\",alpha=0.2))\n",
    "    ax[i].set_ylim(box[2],box[3]); ax[i].set_xlim(box[0],box[1])"
   ]
  },
  {
   "cell_type": "markdown",
   "metadata": {},
   "source": [
    "This structure continues forever; if you zoom in on any chaotic region,\n",
    "you will find within it smaller regions of periodicity among the chaos.\n",
    "\n",
    "In fact, it can be proved that any system exhibiting cycles of period three\n",
    "(remember what you saw with $r=3.83$ earlier?) must also exhibit chaotic\n",
    "behavior for some other parameter values.  This was made famous in James\n",
    "Yorke's paper \"Period 3 implies chaos\", but was in fact proven earlier by\n",
    "Sarkovskii.\n",
    "\n",
    "# The period-doubling cascade and Feigenbaum's constant\n",
    "Here is a more structured manifestation of the fractal structure.  For\n",
    "$r\\in(1,3)$, there is a single stable equilibrium.  At $r=3$, it splits\n",
    "into two; at $r\\approx 3.4494897$ it splits into four; then 8, 16, 32,...\n",
    "The change in $r$ necessary to produce each successive period doubling\n",
    "is smaller than the last; in fact, the distance between doublings shrinks\n",
    "geomtrically, which means that an infinite number of doublings occur before\n",
    "you reach $r=3.57$!\n",
    "\n",
    "Here's a plot of the bifurcation diagram over that range of infinitely many\n",
    "doublings:"
   ]
  },
  {
   "cell_type": "code",
   "execution_count": null,
   "metadata": {},
   "outputs": [],
   "source": [
    "rs, vals = bifurcation_diagram(r=(1.,3.57))\n",
    "plt.figure(figsize=size)   \n",
    "plt.plot(rs,vals,'ok',**plotargs);\n",
    "plt.xlim(rs.min(),rs.max());\n",
    "plt.xlabel('r'); plt.ylabel('x')"
   ]
  },
  {
   "cell_type": "markdown",
   "metadata": {},
   "source": [
    "It's not very convincing, because almost all the doublings occur in a space\n",
    "too small to see on this plot.  How can we see them better?\n",
    "\n",
    "Geometric progressions become linear (i.e. evenly spaced) on a logarithmic scale.\n",
    "So all we have to do is plot the values versus $\\log(X-r)$ where $X$ is the accumulation\n",
    "point of all these doublings.  Here goes: *(warning: this code takes several seconds\n",
    "to run)*"
   ]
  },
  {
   "cell_type": "code",
   "execution_count": null,
   "metadata": {},
   "outputs": [],
   "source": [
    "up = 3.569945665\n",
    "N=40000; k=2000; m=3000; x0=0.4\n",
    "x = np.zeros((k,N))\n",
    "rs = np.logspace(-8,np.log10(up-1.),k)\n",
    "rs = up-rs\n",
    "x[:,0] = x0\n",
    "for n in range(N-1):\n",
    "    x[:,n+1] = rs * x[:,n] * (1. - x[:,n])\n",
    "x = x[:,-m:]\n",
    "\n",
    "fig, ax = plt.subplots(4,1,figsize=(16,20))\n",
    "ax[0].semilogx(up-rs,x,'ok',**plotargs);\n",
    "ax[0].set_ylim(0.3,0.9)\n",
    "ax[1].semilogx(up-rs,x,'ok',**plotargs);\n",
    "ax[1].set_ylim(0.47,0.52)\n",
    "ax[2].semilogx(up-rs,x,'ok',**plotargs);\n",
    "ax[2].set_ylim(0.4749,0.4762)\n",
    "ax[3].semilogx(up-rs,x,'ok',**plotargs);\n",
    "ax[3].set_ylim(0.47565,0.47573)\n",
    "xx = up-3\n",
    "ticks = []; labels = []\n",
    "for i in range(11):\n",
    "    ticks.append(xx)\n",
    "    labels.append(str(2**(i+1)))\n",
    "    for j in range(4):\n",
    "        ax[j].plot([xx,xx],[0,1],'--r',lw=2);\n",
    "    xx = xx/4.669201609102\n",
    "\n",
    "for j in range(4):\n",
    "    ax[j].invert_xaxis()\n",
    "    ax[j].set_xticks(ticks);\n",
    "    ax[j].set_xticklabels(labels);"
   ]
  },
  {
   "cell_type": "markdown",
   "metadata": {},
   "source": [
    "In each of the successive plots above, we zoom in (in the $y$-axis only) in\n",
    "order to be able to distinguish more of the period doublings.  What are the\n",
    "red vertical lines?  They mark where the doublings occur.  Notice that they\n",
    "are perfectly evenly spaced on this logarithmic scale.  The ratio of successive\n",
    "distances between doublings is\n",
    "\n",
    "$$\\delta = 4.669201609102...$$\n",
    "\n",
    "a number [discovered first by Mitchell Feigenbaum in 1978](http://permalink.lanl.gov/object/tr?what=info:lanl-repo/lareport/LA-UR-80-5007).  This number appears\n",
    "over and over in relation to \n",
    "[all kinds of other systems](http://en.wikipedia.org/wiki/List_of_chaotic_maps)\n",
    "that exhibit chaos and fractal structure, and has been confirmed by experimental\n",
    "measurements in physical systems!  It is believed to be transcendental,\n",
    "but nobody knows for sure.\n",
    "\n",
    "The ragged lines you see in the last plot above are the result of only computing\n",
    "a finite length sequence; if we computed more points they would straighten out,\n",
    "though eventually we would need to use more than double-precision accuracy\n",
    "to keep going.\n",
    "\n",
    "# Universality\n",
    "The idea that many different dynamical systems have common quantitative properties\n",
    "(like relations to Feigenbaum's constant) is known as **universality**.  At this point\n",
    "you may be thinking that the logistic map is a very special and perhaps unique recursion,\n",
    "but nothing could be further from the truth.  For example, look what happens if\n",
    "we take the cubic map\n",
    "\n",
    "$$x_{n+1} = r x_n (1-x_n^2)$$\n",
    "\n",
    "and compute sequences for different values of $r$:"
   ]
  },
  {
   "cell_type": "code",
   "execution_count": null,
   "metadata": {},
   "outputs": [],
   "source": [
    "def bifurcation_diagram_cubic(r=(0.8,3),N=2000,k=2000,m=200,x0=0.2):\n",
    "    x = np.zeros((k,N))\n",
    "    vals = np.zeros((k,m))\n",
    "    rs = np.linspace(r[0],r[1],k)\n",
    "    x[:,0] = x0\n",
    "    for n in range(N-1):\n",
    "        x[:,n+1] = rs * x[:,n]*(1-x[:,n]**2)\n",
    "    return rs, x[:,-m:]\n",
    "\n",
    "plotargs = {'markersize':0.5, 'alpha':0.4}\n",
    "rs, vals = bifurcation_diagram_cubic()\n",
    "plt.figure(figsize=size)   \n",
    "plt.plot(rs,vals,'ok',**plotargs);\n",
    "plt.xlim(rs.min(),rs.max());\n",
    "plt.ylim(0,1.18)\n",
    "plt.xlabel('r'); plt.ylabel('x');"
   ]
  },
  {
   "cell_type": "markdown",
   "metadata": {},
   "source": [
    "The same structure appears!  Okay, but what if we take a totally different\n",
    "kind of function; say, a trigonometric function:\n",
    "\n",
    "$$x_{n+1} = r \\sin(x_n)$$\n",
    "\n",
    "Here goes:"
   ]
  },
  {
   "cell_type": "code",
   "execution_count": null,
   "metadata": {},
   "outputs": [],
   "source": [
    "def bifurcation_diagram(r=(0.8,4),N=2000,k=2000,m=200,x0=-0.2):\n",
    "    \"\"\"\n",
    "        r: Pair of numbers (rmin,rmax) indicating parameter range\n",
    "        k: Number of samples in r\n",
    "        N: Number of iterations per sequence\n",
    "        m: keep just the last m iterates\n",
    "    \"\"\"\n",
    "    x = np.zeros((k,N))\n",
    "    vals = np.zeros((k,m))\n",
    "    rs = np.linspace(r[0],r[1],k)\n",
    "    x[:,0] = x0\n",
    "    for n in range(N-1):\n",
    "        x[:,n+1] = rs * np.sin(x[:,n])\n",
    "    return rs, x[:,-m:]\n",
    "\n",
    "plotargs = {'markersize':0.5, 'alpha':0.4}\n",
    "rs, vals = bifurcation_diagram()\n",
    "plt.figure(figsize=size)   \n",
    "plt.plot(rs,vals,'ok',**plotargs);\n",
    "plt.xlim(rs.min(),rs.max());\n",
    "#plt.ylim(0,4)\n",
    "plt.xlabel('r'); plt.ylabel('x');"
   ]
  },
  {
   "cell_type": "code",
   "execution_count": null,
   "metadata": {},
   "outputs": [],
   "source": []
  }
 ],
 "metadata": {
  "kernelspec": {
   "display_name": "Python 3",
   "language": "python",
   "name": "python3"
  },
  "language_info": {
   "codemirror_mode": {
    "name": "ipython",
    "version": 3
   },
   "file_extension": ".py",
   "mimetype": "text/x-python",
   "name": "python",
   "nbconvert_exporter": "python",
   "pygments_lexer": "ipython3",
   "version": "3.6.5"
  },
  "toc": {
   "base_numbering": 1,
   "nav_menu": {},
   "number_sections": true,
   "sideBar": true,
   "skip_h1_title": false,
   "title_cell": "Table of Contents",
   "title_sidebar": "Contents",
   "toc_cell": false,
   "toc_position": {},
   "toc_section_display": true,
   "toc_window_display": false
  },
  "widgets": {
   "state": {
    "1ca3e5e3f1374894a49eb34aba1eca98": {
     "views": [
      {
       "cell_index": 16
      }
     ]
    },
    "d8cd1d2c286444bda14b59b426177141": {
     "views": [
      {
       "cell_index": 20
      }
     ]
    },
    "ed6252cbddff49c1877e215adfaccebc": {
     "views": [
      {
       "cell_index": 9
      }
     ]
    }
   },
   "version": "1.2.0"
  }
 },
 "nbformat": 4,
 "nbformat_minor": 1
}
